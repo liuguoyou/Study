{
 "cells": [
  {
   "cell_type": "markdown",
   "metadata": {},
   "source": [
    "# DoReFa-Net\n",
    "\n",
    "[DoReFa-Net: Training Low Bitwidth Convolutional Neural Networks with Low Bitwidth Gradients](https://arxiv.org/pdf/1606.06160.pdf)"
   ]
  },
  {
   "cell_type": "markdown",
   "metadata": {},
   "source": [
    "## Bit Convolution kernels \n",
    "Assume $x$ is a sequence of $M$-bit fixed-point integers, s.t. $x = \\sum _ {m = 0}^{M - 1} c _ m(x) 2^ m$. \n",
    "\n",
    "And $y$ is a sequence of $K$-bit fixed-point integers, s.t. $y = \\sum _ {k = 0}^{K - 1} c _ k(y) 2^k$\n",
    "\n",
    "where $(c_m(x))_{m=0}^{M-1}$ and $(c_k(y))_{k=0}^{K-1}$ are bit vectors.\n",
    "\n",
    "The product of $x$ and $y$ are:\n",
    "$$x \\cdot y = \\sum_{m=0}^{M-1}{\\sum_{k=0}^{K-1}{2^{m+k} \\mathrm{bitcount}[\\mathrm{and}(c_m(x), c_k(y))]}}$$\n",
    "$$c_m(x)_i, c_k(y)_i \\in \\{0, 1\\} \\forall i, m, k $$"
   ]
  }
 ],
 "metadata": {
  "kernelspec": {
   "display_name": "Python 2",
   "language": "python",
   "name": "python2"
  },
  "language_info": {
   "codemirror_mode": {
    "name": "ipython",
    "version": 2
   },
   "file_extension": ".py",
   "mimetype": "text/x-python",
   "name": "python",
   "nbconvert_exporter": "python",
   "pygments_lexer": "ipython2",
   "version": "2.7.12"
  }
 },
 "nbformat": 4,
 "nbformat_minor": 2
}
