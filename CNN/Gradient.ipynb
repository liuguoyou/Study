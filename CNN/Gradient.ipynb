{
 "cells": [
  {
   "cell_type": "markdown",
   "metadata": {},
   "source": [
    "## Inner Product\n",
    "\n",
    "$<I, W, \\times>$ represent a inner product layer. And there is $I \\in \\mathbb{R}^{n \\times k}$ and $W \\in \\mathbb{R} ^ {k \\times m}$.\n",
    "\n",
    "So, the output $f(I; W) = I \\times W \\in \\mathbb{R} ^ {n \\times m}$\n",
    "\n",
    "This has the gradients:\n",
    "$$\\frac{\\partial f}{\\partial I} = g \\times W^T$$\n",
    "$$\\frac{\\partial f}{\\partial W} = I^T \\times g$$\n",
    "where, $g \\in \\mathbb{R} ^ {n \\times m}$ is the delta of next layer."
   ]
  }
 ],
 "metadata": {
  "kernelspec": {
   "display_name": "Python 2",
   "language": "python",
   "name": "python2"
  },
  "language_info": {
   "codemirror_mode": {
    "name": "ipython",
    "version": 2
   },
   "file_extension": ".py",
   "mimetype": "text/x-python",
   "name": "python",
   "nbconvert_exporter": "python",
   "pygments_lexer": "ipython2",
   "version": "2.7.12"
  }
 },
 "nbformat": 4,
 "nbformat_minor": 2
}
